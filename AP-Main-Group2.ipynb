{
 "cells": [
  {
   "cell_type": "code",
   "execution_count": null,
   "metadata": {},
   "outputs": [],
   "source": [
    "import pandas as pd\n",
    "import matplotlib.pyplot as plt\n",
    "import matplotlib as mpl\n",
    "from datetime import datetime, date\n",
    "from datetime import datetime, timedelta\n",
    "import riskfolio as pf\n",
    "import numpy as np\n",
    "import statsmodels.api as sm\n",
    "pd.options.mode.chained_assignment = None "
   ]
  },
  {
   "cell_type": "code",
   "execution_count": null,
   "metadata": {},
   "outputs": [],
   "source": [
    "risk_free_rate = 0.0538"
   ]
  },
  {
   "cell_type": "code",
   "execution_count": null,
   "metadata": {},
   "outputs": [],
   "source": [
    "df = pd.read_csv('/...choose your path...data.csv',header=0, index_col=0)"
   ]
  },
  {
   "cell_type": "markdown",
   "metadata": {},
   "source": [
    "## 6. Find the variance – covariance and correlation matrixes"
   ]
  },
  {
   "cell_type": "code",
   "execution_count": null,
   "metadata": {},
   "outputs": [],
   "source": [
    "# Calculate the variance-covariance matrix\n",
    "var_cov_matrix = df.cov()\n",
    "\n",
    "# Calculate the correlation matrix\n",
    "corr_matrix = df.corr()"
   ]
  },
  {
   "cell_type": "markdown",
   "metadata": {},
   "source": [
    "## 7. With no constraints whatsoever, find the Global Minimum Variance Portfolio (GMVP) TBU"
   ]
  },
  {
   "cell_type": "code",
   "execution_count": null,
   "metadata": {},
   "outputs": [],
   "source": [
    "df1=df.copy()\n",
    "\n",
    "# Calculate the average of 'TLT' and 'GC=F'\n",
    "df1['A'] = df1[['TLT', 'GC=F']].mean(axis=1)\n",
    "\n",
    "# Calculate the average of all other columns except 'TLT' and 'GC=F'\n",
    "other_columns = df1[df1.columns.difference(['TLT', 'GC=F'])]\n",
    "df1['B'] = other_columns.mean(axis=1)\n",
    "\n",
    "result_df = df1[['A', 'B']]"
   ]
  },
  {
   "cell_type": "code",
   "execution_count": null,
   "metadata": {},
   "outputs": [],
   "source": [
    "cov_matrix = df1.cov()\n",
    "\n",
    "# Extract the necessary statistics\n",
    "sigma_A_squared = cov_matrix.loc['A', 'A']\n",
    "sigma_AB = cov_matrix.loc['A', 'B']\n",
    "\n",
    "# Calculate beta_B\n",
    "beta_B = sigma_AB / sigma_A_squared\n",
    "\n",
    "# Ratio of weights for asset A and B\n",
    "w_A_over_w_B = -beta_B\n",
    "\n",
    "w_A = 0.3 #change to whatever weight you suggest\n",
    "w_B = w_A / w_A_over_w_B"
   ]
  },
  {
   "cell_type": "markdown",
   "metadata": {},
   "source": [
    "## 8. Constraint 1: assuming now that the portfolio is fully invested (the sum of all weight- ings must be equal to 1, with short positions allowed) find the GMV of your portfolio specifying asset weightings, standard deviation and return\n"
   ]
  },
  {
   "cell_type": "code",
   "execution_count": null,
   "metadata": {},
   "outputs": [],
   "source": [
    "\n",
    "# Building the portfolio object\n",
    "port = pf.Portfolio(returns=df)\n",
    "\n",
    "# Calculating optimal portfolio\n",
    "\n",
    "# Select method and estimate input parameters:\n",
    "\n",
    "method_mu='hist' # Method to estimate expected returns based on historical data.\n",
    "method_cov='hist' # Method to estimate covariance matrix based on historical data.\n",
    "\n",
    "port.assets_stats(method_mu=method_mu, method_cov=method_cov, d=0.94)\n",
    "\n",
    "# Configuring short weights options\n",
    "\n",
    "port.sht = True # Allows to use Short Weights\n",
    "\n",
    "port.uppersht =  10  # Maximum value of sum of short weights in absolute value\n",
    "port.upperlng = 11 # Maximum value of sum of positive weights\n",
    "port.budget = 1.0 # port.upperlng - port.uppersht\n",
    "\n",
    "# Estimate optimal portfolio:\n",
    "\n",
    "model='Classic' # Could be Classic (historical), BL (Black Litterman) or FM (Factor Model)\n",
    "rm = 'MV' # Risk measure used, this time will be variance\n",
    "obj = 'MinRisk' # Objective function, could be MinRisk, MaxRet, Utility or Sharpe\n",
    "hist = True # Use historical scenarios for risk measures that depend on scenarios\n",
    "rf = 0 # Risk free rate\n",
    "l = 0 # Risk aversion factor, only useful when obj is 'Utility'\n",
    "\n",
    "w = port.optimization(model=model, rm=rm, obj=obj, rf=rf, l=l, hist=hist)"
   ]
  },
  {
   "cell_type": "code",
   "execution_count": null,
   "metadata": {},
   "outputs": [],
   "source": [
    "# Calculate the covariance matrix of the returns (annualized)\n",
    "cov_matrix_annual = df.cov() * 252  # Assuming 252 trading days in a year\n",
    "\n",
    "# Calculate annualized average returns\n",
    "avg_returns_annual = df.mean() * 252\n",
    "\n",
    "# Initialize a dictionary to store the results\n",
    "portfolio_metrics_8 = {}\n",
    "\n",
    "weights = w['weights'].values\n",
    "# Portfolio return is the weighted sum of individual expected returns (annualized)\n",
    "portfolio_return = np.dot(weights, avg_returns_annual)\n",
    "# Portfolio variance is a quadratic form of the weights and the covariance matrix (annualized)\n",
    "portfolio_variance = np.dot(weights.T, np.dot(cov_matrix_annual, weights))\n",
    "# Portfolio standard deviation is the square root of variance (annualized)\n",
    "portfolio_std_dev = np.sqrt(portfolio_variance)\n",
    "# Sharpe ratio is the annualized excess return over risk-free rate divided by the standard deviation\n",
    "sharpe_ratio = (portfolio_return - risk_free_rate) / portfolio_std_dev\n",
    "    \n",
    "# Store the results\n",
    "portfolio_metrics_8['a'] = {\n",
    "    'Return': portfolio_return,\n",
    "    'Standard Deviation': portfolio_std_dev,\n",
    "    'Sharpe Ratio': sharpe_ratio\n",
    "    }\n",
    "\n",
    "portfolio_metrics_8"
   ]
  },
  {
   "cell_type": "markdown",
   "metadata": {},
   "source": [
    "## 9. Constraint 2: define three minimum required return levels along the efficient frontier"
   ]
  },
  {
   "cell_type": "markdown",
   "metadata": {},
   "source": [
    "(c) Find the GMVP indicating its standard deviation and expected return. Compare with GMVP identified in 7 and 8\n"
   ]
  },
  {
   "cell_type": "code",
   "execution_count": null,
   "metadata": {},
   "outputs": [],
   "source": [
    "# Building the portfolio object\n",
    "port = pf.Portfolio(returns=df)\n",
    "\n",
    "# Calculating optimal portfolio\n",
    "\n",
    "# Select method and estimate input parameters:\n",
    "\n",
    "method_mu='hist' # Method to estimate expected returns based on historical data.\n",
    "method_cov='hist' # Method to estimate covariance matrix based on historical data.\n",
    "\n",
    "port.assets_stats(method_mu=method_mu, method_cov=method_cov, d=0.94)\n",
    "\n",
    "# Estimate optimal portfolio:\n",
    "model='Classic' # Could be Classic (historical), BL (Black Litterman) or FM (Factor Model)\n",
    "rm = 'MV' # Risk measure used, this time will be variance\n",
    "obj = 'MinRisk' # Objective function, could be MinRisk, MaxRet, Utility or Sharpe\n",
    "hist = True # Use historical scenarios for risk measures that depend on scenarios\n",
    "rf = 0 # Risk free rate\n",
    "l = 0 # Risk aversion factor, only useful when obj is 'Utility'\n",
    "\n",
    "w1 = port.optimization(model=model, rm=rm, obj=obj, rf=rf, l=l, hist=hist)"
   ]
  },
  {
   "cell_type": "code",
   "execution_count": null,
   "metadata": {},
   "outputs": [],
   "source": [
    "cov_matrix_annual = df.cov() * 252  # Assuming 252 trading days in a year\n",
    "avg_returns_annual = df.mean() * 252\n",
    "portfolio_metrics_9 = {}\n",
    "\n",
    "weights = w1['weights'].values\n",
    "portfolio_return = np.dot(weights, avg_returns_annual)\n",
    "portfolio_variance = np.dot(weights.T, np.dot(cov_matrix_annual, weights))\n",
    "portfolio_std_dev = np.sqrt(portfolio_variance)\n",
    "sharpe_ratio = (portfolio_return - risk_free_rate) / portfolio_std_dev    \n",
    "\n",
    "portfolio_metrics_9['a'] = {\n",
    "    'Return': portfolio_return,\n",
    "    'Standard Deviation': portfolio_std_dev,\n",
    "    'Sharpe Ratio': sharpe_ratio\n",
    "    }\n"
   ]
  },
  {
   "cell_type": "markdown",
   "metadata": {},
   "source": [
    "(b) Find the efficient frontier"
   ]
  },
  {
   "cell_type": "code",
   "execution_count": null,
   "metadata": {},
   "outputs": [],
   "source": [
    "points = 300 # Number of points of the frontier\n",
    "frontier = port.efficient_frontier(model=model, rm=rm, points=points, rf=rf, hist=hist)"
   ]
  },
  {
   "cell_type": "code",
   "execution_count": null,
   "metadata": {},
   "outputs": [],
   "source": [
    "# Plotting the efficient frontier\n",
    "label = 'Max Risk Adjusted Return Portfolio' # Title of plot\n",
    "mu = port.mu # Expected returns\n",
    "cov = port.cov # Covariance matrix\n",
    "returns = port.returns # Returns of the assets\n",
    "\n",
    "ax = pf.plot_frontier(w_frontier=frontier, mu=mu, cov=cov, returns=returns, rm=rm, rf=rf, alpha=0.05, cmap='viridis', s=16, c='r', height=6, width=10, ax=None)"
   ]
  },
  {
   "cell_type": "markdown",
   "metadata": {},
   "source": [
    "(a) Specify the weights of each asset class for each of the three portfolios"
   ]
  },
  {
   "cell_type": "code",
   "execution_count": null,
   "metadata": {},
   "outputs": [],
   "source": [
    "cov_matrix_annual = df.cov() * 252  # Assuming 252 trading days in a year\n",
    "avg_returns_annual = df.mean() * 252\n",
    "portfolio_metrics2 = {}\n",
    "\n",
    "for column in frontier.columns:\n",
    "    weights = frontier[column].values\n",
    "    portfolio_return = np.dot(weights, avg_returns_annual)\n",
    "    portfolio_variance = np.dot(weights.T, np.dot(cov_matrix_annual, weights))\n",
    "    portfolio_std_dev = np.sqrt(portfolio_variance)\n",
    "    sharpe_ratio = (portfolio_return - risk_free_rate) / portfolio_std_dev\n",
    "\n",
    "    portfolio_metrics2[column] = {\n",
    "        'Return': portfolio_return,\n",
    "        'Standard Deviation': portfolio_std_dev,\n",
    "        'Sharpe Ratio': sharpe_ratio\n",
    "    }"
   ]
  },
  {
   "cell_type": "code",
   "execution_count": null,
   "metadata": {},
   "outputs": [],
   "source": [
    "desired_returns = [0.15, 0.25, 0.30] #Define desired returns for portfolios\n",
    "matching_portfolios = {}\n",
    "\n",
    "for return_value in desired_returns:\n",
    "    closest_portfolio = min(portfolio_metrics2.items(), key=lambda x: abs(x[1]['Return'] - return_value))\n",
    "    matching_portfolios[f\"Closest to {return_value}\"] = closest_portfolio"
   ]
  },
  {
   "cell_type": "code",
   "execution_count": null,
   "metadata": {},
   "outputs": [],
   "source": [
    "portfolio_numbers = [info[0] for info in matching_portfolios.values()]\n",
    "\n",
    "three = frontier[portfolio_numbers]"
   ]
  },
  {
   "cell_type": "code",
   "execution_count": null,
   "metadata": {},
   "outputs": [],
   "source": [
    "cov_matrix_annual = df.cov() * 252  # Assuming 252 trading days in a year\n",
    "\n",
    "avg_returns_annual = df.mean() * 252\n",
    "\n",
    "portfolio_metrics = {}\n",
    "\n",
    "for column in three.columns:\n",
    "    weights = three[column].values\n",
    "    portfolio_return = np.dot(weights, avg_returns_annual)\n",
    "    portfolio_variance = np.dot(weights.T, np.dot(cov_matrix_annual, weights))\n",
    "    portfolio_std_dev = np.sqrt(portfolio_variance)\n",
    "    sharpe_ratio = (portfolio_return - risk_free_rate) / portfolio_std_dev\n",
    "\n",
    "    portfolio_metrics[column] = {\n",
    "        'Return': portfolio_return,\n",
    "        'Standard Deviation': portfolio_std_dev,\n",
    "        'Sharpe Ratio': sharpe_ratio\n",
    "    }"
   ]
  },
  {
   "cell_type": "markdown",
   "metadata": {},
   "source": [
    "## 10. Constraint 3: adding now a Risk-Free asset"
   ]
  },
  {
   "cell_type": "code",
   "execution_count": null,
   "metadata": {},
   "outputs": [],
   "source": [
    "# Identifying the portfolio with the highest Sharpe Ratio\n",
    "highest_sharpe = max(portfolio_metrics2, key=lambda k: portfolio_metrics2[k]['Sharpe Ratio'])\n",
    "\n",
    "# Portfolio with the highest Sharpe Ratio and its metrics\n",
    "highest_sharpe_portfolio = portfolio_metrics2[highest_sharpe]\n",
    "highest_sharpe, highest_sharpe_portfolio\n",
    "\n",
    "w_market = frontier[highest_sharpe]"
   ]
  },
  {
   "cell_type": "code",
   "execution_count": null,
   "metadata": {},
   "outputs": [],
   "source": [
    "market_portfolio_weights = np.array(w_market)\n",
    "\n",
    "avg_returns_annual = np.array(avg_returns_annual)\n",
    "\n",
    "# Calculate market portfolio return and standard deviation\n",
    "market_portfolio_return = np.dot(market_portfolio_weights, avg_returns_annual)\n",
    "market_portfolio_std_dev = np.sqrt(np.dot(market_portfolio_weights.T, \n",
    "                                          np.dot(cov_matrix_annual, market_portfolio_weights)))\n",
    "\n",
    "# Calculate the Sharpe ratio for the market portfolio\n",
    "market_portfolio_sharpe_ratio = (market_portfolio_return - risk_free_rate) / market_portfolio_std_dev\n",
    "\n",
    "# Slope of the Capital Market Line (CML) is the Sharpe ratio of the market portfolio\n",
    "cml_slope = market_portfolio_sharpe_ratio\n",
    "\n",
    "# Generate a range of standard deviations (volatility levels)\n",
    "std_dev_range = np.linspace(0, market_portfolio_std_dev * 2, 100)\n",
    "\n",
    "# Calculate the expected returns on the CML\n",
    "cml_returns = risk_free_rate + (cml_slope * std_dev_range)\n",
    "\n",
    "plt.plot(std_dev_range, cml_returns, label='Capital Market Line')\n",
    "plt.scatter(market_portfolio_std_dev, market_portfolio_return, color='red', label='Market Portfolio')\n",
    "plt.xlabel('Standard Deviation (Risk)')\n",
    "plt.ylabel('Expected Return')\n",
    "plt.title('Capital Market Line (CML)')\n",
    "plt.legend()\n",
    "plt.grid(False)\n",
    "plt.show()"
   ]
  },
  {
   "cell_type": "markdown",
   "metadata": {},
   "source": [
    "## 11. Take the same three portfolios"
   ]
  },
  {
   "cell_type": "code",
   "execution_count": null,
   "metadata": {},
   "outputs": [],
   "source": [
    "ps = pd.DataFrame(portfolio_metrics).T\n",
    "\n",
    "three_returns = ps['Return']\n",
    "three_returns = np.array(three_returns)\n",
    "\n",
    "three_std = ps['Standard Deviation']\n",
    "three_std = np.array(three_std)"
   ]
  },
  {
   "cell_type": "code",
   "execution_count": null,
   "metadata": {},
   "outputs": [],
   "source": [
    "# Calculate Sharpe Ratios for the three original portfolios\n",
    "three_sharpe_ratios = (three_returns - risk_free_rate) / three_std\n",
    "\n",
    "weights_market = three_std / market_portfolio_std_dev\n",
    "\n",
    "# Calculate their expected returns based on the CML\n",
    "expected_returns_cml = risk_free_rate + weights_market * (market_portfolio_return - risk_free_rate)\n",
    "\n",
    "# The standard deviations along the CML are the same as the original portfolios\n",
    "# since we've used the same volatility to calculate the weights on the market portfolio\n",
    "std_dev_cml = three_std\n",
    "\n",
    "# Calculate Sharpe Ratios for the three portfolios along the CML\n",
    "sharpe_ratios_cml = (expected_returns_cml - risk_free_rate) / std_dev_cml\n",
    "\n",
    "# Results\n",
    "portfolio_weights_cml = weights_market\n",
    "portfolios_cml_metrics = {\n",
    "    'Expected Returns': expected_returns_cml,\n",
    "    'Standard Deviations': std_dev_cml,\n",
    "    'Sharpe Ratios': sharpe_ratios_cml\n",
    "}\n",
    "\n",
    "# Output the results\n",
    "three_sharpe_ratios, portfolio_weights_cml, portfolios_cml_metrics, market_portfolio_sharpe_ratio"
   ]
  },
  {
   "cell_type": "code",
   "execution_count": null,
   "metadata": {},
   "outputs": [],
   "source": [
    "1 - portfolio_weights_cml # rf_weights"
   ]
  },
  {
   "cell_type": "markdown",
   "metadata": {},
   "source": [
    "## 12. Define the position on the SML of the three portfolios (CAPM framework)"
   ]
  },
  {
   "cell_type": "code",
   "execution_count": null,
   "metadata": {},
   "outputs": [],
   "source": [
    "three1 = three.T"
   ]
  },
  {
   "cell_type": "code",
   "execution_count": null,
   "metadata": {},
   "outputs": [],
   "source": [
    "# Calculate the returns of the market portfolio\n",
    "market_portfolio_returns = df.dot(market_portfolio_weights)\n",
    "\n",
    "# Calculate the returns of the three portfolios in 'three1'\n",
    "# Note: 'three1' should be defined as a DataFrame with portfolio weights before this step.\n",
    "three_portfolios_returns = df.dot(three1.T)\n",
    "\n",
    "three_portfolios_returns['M'] = market_portfolio_returns\n",
    "portfolio_market_cov = three_portfolios_returns.cov()*252\n",
    "portfolio_market_cov = portfolio_market_cov['M'][:-1]"
   ]
  },
  {
   "cell_type": "code",
   "execution_count": null,
   "metadata": {},
   "outputs": [],
   "source": [
    "# Assuming 'three_portfolios_returns' is your DataFrame\n",
    "market_returns = three_portfolios_returns.iloc[:, 3]  # The fourth column as market returns, zero-based indexing\n",
    "portfolios = three_portfolios_returns.columns[:3]  # Selecting the first three columns as portfolio names\n",
    "\n",
    "results = {}\n",
    "\n",
    "for portfolio in portfolios:\n",
    "    # Preparing the data\n",
    "    y = three_portfolios_returns[portfolio]  # Portfolio returns\n",
    "    X = sm.add_constant(market_returns)  # Adding a constant for the regression\n",
    "\n",
    "    # Running the regression\n",
    "    model = sm.OLS(y, X).fit()\n",
    "\n",
    "    # Storing alphas, betas and checking alpha significance\n",
    "    alpha, beta = model.params['const'], model.params[market_returns.name]\n",
    "    p_value_alpha = model.pvalues['const']  # P-value for alpha\n",
    "\n",
    "    # Storing results\n",
    "    results[portfolio] = {\n",
    "        'beta': beta,\n",
    "        'alpha': alpha,\n",
    "        'p-value': p_value_alpha,\n",
    "        'alpha_significant': p_value_alpha < 0.05  # Typically, a p-value < 0.05 implies significance\n",
    "    }"
   ]
  },
  {
   "cell_type": "code",
   "execution_count": null,
   "metadata": {},
   "outputs": [],
   "source": []
  }
 ],
 "metadata": {
  "kernelspec": {
   "display_name": "Python 3 (ipykernel)",
   "language": "python",
   "name": "python3"
  },
  "language_info": {
   "codemirror_mode": {
    "name": "ipython",
    "version": 3
   },
   "file_extension": ".py",
   "mimetype": "text/x-python",
   "name": "python",
   "nbconvert_exporter": "python",
   "pygments_lexer": "ipython3",
   "version": "3.9.13"
  }
 },
 "nbformat": 4,
 "nbformat_minor": 2
}
